{
 "cells": [
  {
   "cell_type": "code",
   "execution_count": 16,
   "metadata": {},
   "outputs": [],
   "source": [
    "class aluno():\n",
    "    def __init__(self, nome, num_ufu): # método de inicialização\n",
    "        self.nome = nome\n",
    "        self.num_ufu = num_ufu\n",
    "        self.notas = [] # lista vazia para armazenar as notas\n",
    "\n",
    "    def imprime_ficha(self):\n",
    "        print(\"Nome: \", self.nome)\n",
    "        print(\"Número de matrícula: \", self.num_ufu)\n",
    "        print(\"Notas: \", self.notas)\n",
    "        print(\"Média: \", self.media)\n",
    "\n",
    "    def atribui_nota(self, nota):\n",
    "        self.notas.append(nota)\n",
    "    \n",
    "    @property\n",
    "    def media(self):\n",
    "        self._media = sum(self.notas) / 5\n",
    "        return self._media"
   ]
  },
  {
   "cell_type": "code",
   "execution_count": 17,
   "metadata": {},
   "outputs": [],
   "source": [
    "olavo = aluno(\"Olavo\", \"123FIS45678\")\n",
    "pedro = aluno(\"Pedro\", \"123FIS00000\")\n",
    "\n",
    "olavo.atribui_nota(10)\n",
    "olavo.atribui_nota(9)"
   ]
  },
  {
   "cell_type": "code",
   "execution_count": 18,
   "metadata": {},
   "outputs": [
    {
     "name": "stdout",
     "output_type": "stream",
     "text": [
      "Nome:  Olavo\n",
      "Número de matrícula:  123FIS45678\n",
      "Notas:  [10, 9]\n",
      "Média:  3.8\n"
     ]
    }
   ],
   "source": [
    "olavo.imprime_ficha()"
   ]
  }
 ],
 "metadata": {
  "kernelspec": {
   "display_name": "Python 3",
   "language": "python",
   "name": "python3"
  },
  "language_info": {
   "codemirror_mode": {
    "name": "ipython",
    "version": 3
   },
   "file_extension": ".py",
   "mimetype": "text/x-python",
   "name": "python",
   "nbconvert_exporter": "python",
   "pygments_lexer": "ipython3",
   "version": "3.13.2"
  }
 },
 "nbformat": 4,
 "nbformat_minor": 2
}
